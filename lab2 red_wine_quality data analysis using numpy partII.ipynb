{
 "cells": [
  {
   "cell_type": "markdown",
   "id": "b0faca13",
   "metadata": {},
   "source": [
    "Nivshini J\n",
    "\n",
    "\n",
    "235229119"
   ]
  },
  {
   "cell_type": "code",
   "execution_count": 1,
   "id": "1a8e988a",
   "metadata": {},
   "outputs": [
    {
     "ename": "FileNotFoundError",
     "evalue": "redwinequality.csv not found.",
     "output_type": "error",
     "traceback": [
      "\u001b[1;31m---------------------------------------------------------------------------\u001b[0m",
      "\u001b[1;31mFileNotFoundError\u001b[0m                         Traceback (most recent call last)",
      "Cell \u001b[1;32mIn[1], line 2\u001b[0m\n\u001b[0;32m      1\u001b[0m \u001b[38;5;28;01mimport\u001b[39;00m \u001b[38;5;21;01mnumpy\u001b[39;00m \u001b[38;5;28;01mas\u001b[39;00m \u001b[38;5;21;01mnp\u001b[39;00m \n\u001b[1;32m----> 2\u001b[0m wines\u001b[38;5;241m=\u001b[39m\u001b[43mnp\u001b[49m\u001b[38;5;241;43m.\u001b[39;49m\u001b[43mgenfromtxt\u001b[49m\u001b[43m(\u001b[49m\u001b[38;5;124;43m\"\u001b[39;49m\u001b[38;5;124;43mredwinequality.csv\u001b[39;49m\u001b[38;5;124;43m\"\u001b[39;49m\u001b[43m,\u001b[49m\u001b[43mdelimiter\u001b[49m\u001b[38;5;241;43m=\u001b[39;49m\u001b[38;5;124;43m\"\u001b[39;49m\u001b[38;5;124;43m,\u001b[39;49m\u001b[38;5;124;43m\"\u001b[39;49m\u001b[43m,\u001b[49m\u001b[43mskip_header\u001b[49m\u001b[38;5;241;43m=\u001b[39;49m\u001b[38;5;241;43m1\u001b[39;49m\u001b[43m)\u001b[49m\n",
      "File \u001b[1;32m~\\AppData\\Roaming\\Python\\Python311\\site-packages\\numpy\\lib\\npyio.py:1980\u001b[0m, in \u001b[0;36mgenfromtxt\u001b[1;34m(fname, dtype, comments, delimiter, skip_header, skip_footer, converters, missing_values, filling_values, usecols, names, excludelist, deletechars, replace_space, autostrip, case_sensitive, defaultfmt, unpack, usemask, loose, invalid_raise, max_rows, encoding, ndmin, like)\u001b[0m\n\u001b[0;32m   1978\u001b[0m     fname \u001b[38;5;241m=\u001b[39m os_fspath(fname)\n\u001b[0;32m   1979\u001b[0m \u001b[38;5;28;01mif\u001b[39;00m \u001b[38;5;28misinstance\u001b[39m(fname, \u001b[38;5;28mstr\u001b[39m):\n\u001b[1;32m-> 1980\u001b[0m     fid \u001b[38;5;241m=\u001b[39m \u001b[43mnp\u001b[49m\u001b[38;5;241;43m.\u001b[39;49m\u001b[43mlib\u001b[49m\u001b[38;5;241;43m.\u001b[39;49m\u001b[43m_datasource\u001b[49m\u001b[38;5;241;43m.\u001b[39;49m\u001b[43mopen\u001b[49m\u001b[43m(\u001b[49m\u001b[43mfname\u001b[49m\u001b[43m,\u001b[49m\u001b[43m \u001b[49m\u001b[38;5;124;43m'\u001b[39;49m\u001b[38;5;124;43mrt\u001b[39;49m\u001b[38;5;124;43m'\u001b[39;49m\u001b[43m,\u001b[49m\u001b[43m \u001b[49m\u001b[43mencoding\u001b[49m\u001b[38;5;241;43m=\u001b[39;49m\u001b[43mencoding\u001b[49m\u001b[43m)\u001b[49m\n\u001b[0;32m   1981\u001b[0m     fid_ctx \u001b[38;5;241m=\u001b[39m contextlib\u001b[38;5;241m.\u001b[39mclosing(fid)\n\u001b[0;32m   1982\u001b[0m \u001b[38;5;28;01melse\u001b[39;00m:\n",
      "File \u001b[1;32m~\\AppData\\Roaming\\Python\\Python311\\site-packages\\numpy\\lib\\_datasource.py:193\u001b[0m, in \u001b[0;36mopen\u001b[1;34m(path, mode, destpath, encoding, newline)\u001b[0m\n\u001b[0;32m    156\u001b[0m \u001b[38;5;250m\u001b[39m\u001b[38;5;124;03m\"\"\"\u001b[39;00m\n\u001b[0;32m    157\u001b[0m \u001b[38;5;124;03mOpen `path` with `mode` and return the file object.\u001b[39;00m\n\u001b[0;32m    158\u001b[0m \n\u001b[1;32m   (...)\u001b[0m\n\u001b[0;32m    189\u001b[0m \n\u001b[0;32m    190\u001b[0m \u001b[38;5;124;03m\"\"\"\u001b[39;00m\n\u001b[0;32m    192\u001b[0m ds \u001b[38;5;241m=\u001b[39m DataSource(destpath)\n\u001b[1;32m--> 193\u001b[0m \u001b[38;5;28;01mreturn\u001b[39;00m \u001b[43mds\u001b[49m\u001b[38;5;241;43m.\u001b[39;49m\u001b[43mopen\u001b[49m\u001b[43m(\u001b[49m\u001b[43mpath\u001b[49m\u001b[43m,\u001b[49m\u001b[43m \u001b[49m\u001b[43mmode\u001b[49m\u001b[43m,\u001b[49m\u001b[43m \u001b[49m\u001b[43mencoding\u001b[49m\u001b[38;5;241;43m=\u001b[39;49m\u001b[43mencoding\u001b[49m\u001b[43m,\u001b[49m\u001b[43m \u001b[49m\u001b[43mnewline\u001b[49m\u001b[38;5;241;43m=\u001b[39;49m\u001b[43mnewline\u001b[49m\u001b[43m)\u001b[49m\n",
      "File \u001b[1;32m~\\AppData\\Roaming\\Python\\Python311\\site-packages\\numpy\\lib\\_datasource.py:533\u001b[0m, in \u001b[0;36mDataSource.open\u001b[1;34m(self, path, mode, encoding, newline)\u001b[0m\n\u001b[0;32m    530\u001b[0m     \u001b[38;5;28;01mreturn\u001b[39;00m _file_openers[ext](found, mode\u001b[38;5;241m=\u001b[39mmode,\n\u001b[0;32m    531\u001b[0m                               encoding\u001b[38;5;241m=\u001b[39mencoding, newline\u001b[38;5;241m=\u001b[39mnewline)\n\u001b[0;32m    532\u001b[0m \u001b[38;5;28;01melse\u001b[39;00m:\n\u001b[1;32m--> 533\u001b[0m     \u001b[38;5;28;01mraise\u001b[39;00m \u001b[38;5;167;01mFileNotFoundError\u001b[39;00m(\u001b[38;5;124mf\u001b[39m\u001b[38;5;124m\"\u001b[39m\u001b[38;5;132;01m{\u001b[39;00mpath\u001b[38;5;132;01m}\u001b[39;00m\u001b[38;5;124m not found.\u001b[39m\u001b[38;5;124m\"\u001b[39m)\n",
      "\u001b[1;31mFileNotFoundError\u001b[0m: redwinequality.csv not found."
     ]
    }
   ],
   "source": [
    "import numpy as np \n",
    "wines=np.genfromtxt(\"redwinequality.csv\",delimiter=\",\",skip_header=1)"
   ]
  },
  {
   "cell_type": "code",
   "execution_count": null,
   "id": "0896189b",
   "metadata": {},
   "outputs": [
    {
     "data": {
      "text/plain": [
       "4059.55"
      ]
     },
     "execution_count": 7,
     "metadata": {},
     "output_type": "execute_result"
    }
   ],
   "source": [
    "wines[:,3].sum()   # sum of all residual sugar values"
   ]
  },
  {
   "cell_type": "code",
   "execution_count": 8,
   "id": "3d7789de",
   "metadata": {},
   "outputs": [
    {
     "data": {
      "text/plain": [
       "array([13303.1    ,   843.985  ,   433.29   ,  4059.55   ,   139.859  ,\n",
       "       25384.     , 74302.     ,  1593.79794,  5294.47   ,  1052.38   ,\n",
       "       16666.35   ,  9012.     ])"
      ]
     },
     "execution_count": 8,
     "metadata": {},
     "output_type": "execute_result"
    }
   ],
   "source": [
    "sum(wines[:])  # sums fo every feature value there 12 feature"
   ]
  },
  {
   "cell_type": "code",
   "execution_count": 9,
   "id": "9d961f53",
   "metadata": {},
   "outputs": [],
   "source": [
    "#np.sum(wines)\n"
   ]
  },
  {
   "cell_type": "code",
   "execution_count": 10,
   "id": "b742ae0b",
   "metadata": {},
   "outputs": [
    {
     "data": {
      "text/plain": [
       "array([ 74.5438 , 123.0548 ,  99.699  , ..., 100.48174, 105.21547,\n",
       "        92.49249])"
      ]
     },
     "execution_count": 10,
     "metadata": {},
     "output_type": "execute_result"
    }
   ],
   "source": [
    "a=wines.sum(axis=1)  #  add all columns  in each rows\n",
    "\\\n",
    "a"
   ]
  },
  {
   "cell_type": "code",
   "execution_count": 11,
   "id": "d78c69ba",
   "metadata": {},
   "outputs": [
    {
     "data": {
      "text/plain": [
       "array([13303.1    ,   843.985  ,   433.29   ,  4059.55   ,   139.859  ,\n",
       "       25384.     , 74302.     ,  1593.79794,  5294.47   ,  1052.38   ,\n",
       "       16666.35   ,  9012.     ])"
      ]
     },
     "execution_count": 11,
     "metadata": {},
     "output_type": "execute_result"
    }
   ],
   "source": [
    "a=wines.sum(axis=0)   # add all rows in each columns\n",
    "a"
   ]
  },
  {
   "cell_type": "code",
   "execution_count": 13,
   "id": "f3a0636d",
   "metadata": {},
   "outputs": [
    {
     "data": {
      "text/plain": [
       "(12,)"
      ]
     },
     "execution_count": 13,
     "metadata": {},
     "output_type": "execute_result"
    }
   ],
   "source": [
    "a.shape\n"
   ]
  },
  {
   "cell_type": "code",
   "execution_count": 14,
   "id": "bd252038",
   "metadata": {},
   "outputs": [
    {
     "data": {
      "text/plain": [
       "(1599, 12)"
      ]
     },
     "execution_count": 14,
     "metadata": {},
     "output_type": "execute_result"
    }
   ],
   "source": [
    "wines.shape"
   ]
  },
  {
   "cell_type": "code",
   "execution_count": 15,
   "id": "4291f551",
   "metadata": {},
   "outputs": [
    {
     "data": {
      "text/plain": [
       "array([1, 2, 2, ..., 2, 2, 3])"
      ]
     },
     "execution_count": 15,
     "metadata": {},
     "output_type": "execute_result"
    }
   ],
   "source": [
    "b=wines[:,3]\n",
    "b=b.astype(int)\n",
    "b"
   ]
  },
  {
   "cell_type": "code",
   "execution_count": 16,
   "id": "908e9dde",
   "metadata": {},
   "outputs": [
    {
     "data": {
      "text/plain": [
       "15"
      ]
     },
     "execution_count": 16,
     "metadata": {},
     "output_type": "execute_result"
    }
   ],
   "source": [
    "b.max()"
   ]
  },
  {
   "cell_type": "code",
   "execution_count": 17,
   "id": "602e5935",
   "metadata": {},
   "outputs": [
    {
     "data": {
      "text/plain": [
       "0"
      ]
     },
     "execution_count": 17,
     "metadata": {},
     "output_type": "execute_result"
    }
   ],
   "source": [
    "b.min()"
   ]
  },
  {
   "cell_type": "code",
   "execution_count": 18,
   "id": "d347a639",
   "metadata": {},
   "outputs": [
    {
     "data": {
      "text/plain": [
       "2.0950594121325827"
      ]
     },
     "execution_count": 18,
     "metadata": {},
     "output_type": "execute_result"
    }
   ],
   "source": [
    "b.mean()"
   ]
  },
  {
   "cell_type": "code",
   "execution_count": 19,
   "id": "a83d79b9",
   "metadata": {},
   "outputs": [
    {
     "data": {
      "text/plain": [
       "1.0"
      ]
     },
     "execution_count": 19,
     "metadata": {},
     "output_type": "execute_result"
    }
   ],
   "source": [
    "np.percentile(b,25)   # 25 percentile residual sugar value"
   ]
  },
  {
   "cell_type": "code",
   "execution_count": 20,
   "id": "cb63abc9",
   "metadata": {},
   "outputs": [
    {
     "data": {
      "text/plain": [
       "array([ 8.31963727,  0.52782051,  0.27097561,  2.5388055 ,  0.08746654,\n",
       "       15.87492183, 46.46779237,  0.99674668,  3.3111132 ,  0.65814884,\n",
       "       10.42298311,  5.63602251])"
      ]
     },
     "execution_count": 20,
     "metadata": {},
     "output_type": "execute_result"
    }
   ],
   "source": [
    "wines.mean(axis=0)   # average of feature values"
   ]
  },
  {
   "cell_type": "markdown",
   "id": "a748118a",
   "metadata": {},
   "source": [
    "comparisons\n"
   ]
  },
  {
   "cell_type": "code",
   "execution_count": 21,
   "id": "81e3f723",
   "metadata": {},
   "outputs": [
    {
     "data": {
      "text/plain": [
       "array([[ True, False, False, False, False,  True,  True, False, False,\n",
       "        False,  True, False],\n",
       "       [ True, False, False, False, False,  True,  True, False, False,\n",
       "        False,  True, False],\n",
       "       [ True, False, False, False, False,  True,  True, False, False,\n",
       "        False,  True, False],\n",
       "       [ True, False, False, False, False,  True,  True, False, False,\n",
       "        False,  True,  True],\n",
       "       [ True, False, False, False, False,  True,  True, False, False,\n",
       "        False,  True, False],\n",
       "       [ True, False, False, False, False,  True,  True, False, False,\n",
       "        False,  True, False],\n",
       "       [ True, False, False, False, False,  True,  True, False, False,\n",
       "        False,  True, False],\n",
       "       [ True, False, False, False, False,  True,  True, False, False,\n",
       "        False,  True,  True],\n",
       "       [ True, False, False, False, False,  True,  True, False, False,\n",
       "        False,  True,  True],\n",
       "       [ True, False, False,  True, False,  True,  True, False, False,\n",
       "        False,  True, False],\n",
       "       [ True, False, False, False, False,  True,  True, False, False,\n",
       "        False,  True, False]])"
      ]
     },
     "execution_count": 21,
     "metadata": {},
     "output_type": "execute_result"
    }
   ],
   "source": [
    "wines[:11]>5   # show all wines with quality >5"
   ]
  },
  {
   "cell_type": "code",
   "execution_count": null,
   "id": "1b4a339b",
   "metadata": {},
   "outputs": [],
   "source": [
    "d=wines[:,11]>7 # show all wines with quality>7"
   ]
  },
  {
   "cell_type": "code",
   "execution_count": 22,
   "id": "4b18dda0",
   "metadata": {},
   "outputs": [
    {
     "data": {
      "text/plain": [
       "True"
      ]
     },
     "execution_count": 22,
     "metadata": {},
     "output_type": "execute_result"
    }
   ],
   "source": [
    "d=wines[:,11]>7   # any wines value in true for the condition quality >7\n",
    "True in d"
   ]
  },
  {
   "cell_type": "markdown",
   "id": "867a4893",
   "metadata": {},
   "source": [
    "show first 3 rows where wine quality greater than 7 , call it high quality"
   ]
  },
  {
   "cell_type": "code",
   "execution_count": 26,
   "id": "4a1e5927",
   "metadata": {},
   "outputs": [
    {
     "data": {
      "text/plain": [
       "False"
      ]
     },
     "execution_count": 26,
     "metadata": {},
     "output_type": "execute_result"
    }
   ],
   "source": [
    "high_quality=wines[:,11]>7\n"
   ]
  },
  {
   "cell_type": "markdown",
   "id": "a3169195",
   "metadata": {},
   "source": [
    "show only top 3 rows and all columns of high quality wine data"
   ]
  },
  {
   "cell_type": "code",
   "execution_count": 28,
   "id": "9e15158a",
   "metadata": {},
   "outputs": [
    {
     "ename": "TypeError",
     "evalue": "'numpy.bool_' object does not support item assignment",
     "output_type": "error",
     "traceback": [
      "\u001b[1;31m---------------------------------------------------------------------------\u001b[0m",
      "\u001b[1;31mTypeError\u001b[0m                                 Traceback (most recent call last)",
      "Input \u001b[1;32mIn [28]\u001b[0m, in \u001b[0;36m<cell line: 3>\u001b[1;34m()\u001b[0m\n\u001b[0;32m      1\u001b[0m wine_quality_column \u001b[38;5;241m=\u001b[39m wines[:, \u001b[38;5;241m11\u001b[39m]\n\u001b[0;32m      2\u001b[0m high_quality_indices \u001b[38;5;241m=\u001b[39m np\u001b[38;5;241m.\u001b[39mwhere(wine_quality_column[:\u001b[38;5;241m3\u001b[39m] \u001b[38;5;241m>\u001b[39m \u001b[38;5;241m7\u001b[39m)\n\u001b[1;32m----> 3\u001b[0m high_quality_first_3_rows[high_quality_indices, \u001b[38;5;241m11\u001b[39m] \u001b[38;5;241m=\u001b[39m \u001b[38;5;124m'\u001b[39m\u001b[38;5;124mhigh quality\u001b[39m\u001b[38;5;124m'\u001b[39m\n",
      "\u001b[1;31mTypeError\u001b[0m: 'numpy.bool_' object does not support item assignment"
     ]
    }
   ],
   "source": [
    "high_quality_first_3_rows=wines[high_quality][0:3]\n",
    "high_quality_first_3_rows"
   ]
  },
  {
   "cell_type": "markdown",
   "id": "b65b78e2",
   "metadata": {},
   "source": [
    "show wines with a lot of alchol>10 and high wine quality>10\n"
   ]
  },
  {
   "cell_type": "code",
   "execution_count": null,
   "id": "b82e1f01",
   "metadata": {},
   "outputs": [],
   "source": [
    "alcohol_wines=(wines[:,10]>10)&(wines[:,11]>7)\n",
    "alcohol_wines"
   ]
  },
  {
   "cell_type": "markdown",
   "id": "e7447a94",
   "metadata": {},
   "source": [
    "show only alcohol and wine quality columns"
   ]
  },
  {
   "cell_type": "code",
   "execution_count": null,
   "id": "99a90a26",
   "metadata": {},
   "outputs": [],
   "source": [
    "wines[alcohol_wines,10:]"
   ]
  },
  {
   "cell_type": "markdown",
   "id": "562cd4b6",
   "metadata": {},
   "source": [
    "combining Numpy arrays\n"
   ]
  },
  {
   "cell_type": "markdown",
   "id": "d7ff6cf4",
   "metadata": {},
   "source": [
    "open white wine dataset"
   ]
  },
  {
   "cell_type": "code",
   "execution_count": null,
   "id": "3df7d362",
   "metadata": {},
   "outputs": [],
   "source": [
    "white_wine=np.genfromtxt(\"winequality-white.csv\",delimiter=\";\",skip_header=1)\n",
    "\n",
    "\n",
    "\n",
    "\n"
   ]
  },
  {
   "cell_type": "code",
   "execution_count": null,
   "id": "192eb4f3",
   "metadata": {},
   "outputs": [],
   "source": [
    "white_wine.size"
   ]
  },
  {
   "cell_type": "code",
   "execution_count": null,
   "id": "d6fe7a10",
   "metadata": {},
   "outputs": [],
   "source": [
    "white_wine.shape\n"
   ]
  },
  {
   "cell_type": "markdown",
   "id": "a8b2ec4b",
   "metadata": {},
   "source": [
    "what is the size of all_wines"
   ]
  },
  {
   "cell_type": "code",
   "execution_count": null,
   "id": "fb36184d",
   "metadata": {},
   "outputs": [],
   "source": [
    "all_wines=np.vstack((wines,white_wine),axis=0)\n",
    "all_wines.shape"
   ]
  },
  {
   "cell_type": "code",
   "execution_count": null,
   "id": "1fb3b426",
   "metadata": {},
   "outputs": [],
   "source": [
    "data2=np.concatenate((wines,white_wine),axis=0)\n"
   ]
  },
  {
   "cell_type": "code",
   "execution_count": null,
   "id": "da487c32",
   "metadata": {},
   "outputs": [],
   "source": [
    "data2.shape"
   ]
  },
  {
   "cell_type": "markdown",
   "id": "5db77c79",
   "metadata": {},
   "source": [
    "find transpose and print size "
   ]
  },
  {
   "cell_type": "code",
   "execution_count": null,
   "id": "8ced3b90",
   "metadata": {},
   "outputs": [],
   "source": [
    "ce=np.transpose(wines)"
   ]
  },
  {
   "cell_type": "code",
   "execution_count": null,
   "id": "85ca67d2",
   "metadata": {},
   "outputs": [],
   "source": [
    "ce.shape"
   ]
  },
  {
   "cell_type": "markdown",
   "id": "62e82744",
   "metadata": {},
   "source": [
    "convert wines data in 1dimension array"
   ]
  },
  {
   "cell_type": "code",
   "execution_count": null,
   "id": "8526cd59",
   "metadata": {},
   "outputs": [],
   "source": [
    "wines.ravel().size"
   ]
  },
  {
   "cell_type": "code",
   "execution_count": null,
   "id": "0863775a",
   "metadata": {},
   "outputs": [],
   "source": [
    "wines.ravel()"
   ]
  },
  {
   "cell_type": "markdown",
   "id": "2b34c0cc",
   "metadata": {},
   "source": [
    "                         reshape second row of wines into 2 dimension array with 2 rows and 6 columns"
   ]
  },
  {
   "cell_type": "code",
   "execution_count": null,
   "id": "06f9dc82",
   "metadata": {},
   "outputs": [],
   "source": [
    "wines[1,:].reshape(2,6)\n"
   ]
  },
  {
   "cell_type": "markdown",
   "id": "e5b8dce7",
   "metadata": {},
   "source": [
    "sort alcohol columns ascending order"
   ]
  },
  {
   "cell_type": "code",
   "execution_count": null,
   "id": "04b04b9a",
   "metadata": {},
   "outputs": [],
   "source": [
    "np.sort(wines[:,10])"
   ]
  },
  {
   "cell_type": "code",
   "execution_count": null,
   "id": "5f69af82",
   "metadata": {},
   "outputs": [],
   "source": [
    "sort alcohol columns descending order"
   ]
  },
  {
   "cell_type": "code",
   "execution_count": null,
   "id": "c77ffa31",
   "metadata": {},
   "outputs": [],
   "source": [
    "np.sort(wines[:,10])[::-1]"
   ]
  },
  {
   "cell_type": "code",
   "execution_count": null,
   "id": "81f3663d",
   "metadata": {},
   "outputs": [],
   "source": []
  },
  {
   "cell_type": "code",
   "execution_count": null,
   "id": "3dd4f77a",
   "metadata": {},
   "outputs": [],
   "source": [
    "what"
   ]
  }
 ],
 "metadata": {
  "kernelspec": {
   "display_name": "Python 3 (ipykernel)",
   "language": "python",
   "name": "python3"
  },
  "language_info": {
   "codemirror_mode": {
    "name": "ipython",
    "version": 3
   },
   "file_extension": ".py",
   "mimetype": "text/x-python",
   "name": "python",
   "nbconvert_exporter": "python",
   "pygments_lexer": "ipython3",
   "version": "3.11.4"
  }
 },
 "nbformat": 4,
 "nbformat_minor": 5
}
