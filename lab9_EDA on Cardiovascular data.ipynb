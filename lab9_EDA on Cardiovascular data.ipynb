{
 "cells": [
  {
   "cell_type": "markdown",
   "id": "a86a9c54",
   "metadata": {},
   "source": [
    "EDA ON CARDIO VASCULAR DATA"
   ]
  },
  {
   "cell_type": "code",
   "execution_count": null,
   "id": "f6bea059",
   "metadata": {
    "vscode": {
     "languageId": "plaintext"
    }
   },
   "outputs": [],
   "source": [
    "import pandas as pd\n",
    "import numpy as np\n",
    "warning.filterwarning(\"ignore)   # disable warning\n",
    "import seaborn as sns\n",
    "import matplot.pyplot as plt"
   ]
  },
  {
   "cell_type": "code",
   "execution_count": null,
   "id": "cfd84865",
   "metadata": {
    "vscode": {
     "languageId": "plaintext"
    }
   },
   "outputs": [],
   "source": [
    "df=pd.read_csv(\"mlbootcamp5_train.csv\",sep=\";\")\n",
    "df.head()"
   ]
  },
  {
   "cell_type": "code",
   "execution_count": null,
   "id": "2c41151e",
   "metadata": {
    "vscode": {
     "languageId": "plaintext"
    }
   },
   "outputs": [],
   "source": [
    "df.size"
   ]
  },
  {
   "cell_type": "code",
   "execution_count": null,
   "id": "f06f65ef",
   "metadata": {
    "vscode": {
     "languageId": "plaintext"
    }
   },
   "outputs": [],
   "source": [
    "df.smoke.value_counts()"
   ]
  },
  {
   "cell_type": "code",
   "execution_count": null,
   "id": "b1f7e3d1",
   "metadata": {
    "vscode": {
     "languageId": "plaintext"
    }
   },
   "outputs": [],
   "source": [
    "df.alco.value_counts()"
   ]
  },
  {
   "cell_type": "code",
   "execution_count": null,
   "id": "c11ffd6e",
   "metadata": {
    "vscode": {
     "languageId": "plaintext"
    }
   },
   "outputs": [],
   "source": [
    "df.gluco.value_counts()"
   ]
  },
  {
   "cell_type": "code",
   "execution_count": null,
   "id": "c7e9c0de",
   "metadata": {
    "vscode": {
     "languageId": "plaintext"
    }
   },
   "outputs": [],
   "source": [
    "df.smoke.plot(kind='bar')"
   ]
  },
  {
   "cell_type": "code",
   "execution_count": null,
   "id": "14174d3b",
   "metadata": {
    "vscode": {
     "languageId": "plaintext"
    }
   },
   "outputs": [],
   "source": [
    "binary_df=['smoke','alco','active','gender']"
   ]
  },
  {
   "cell_type": "code",
   "execution_count": null,
   "id": "36889ad8",
   "metadata": {
    "vscode": {
     "languageId": "plaintext"
    }
   },
   "outputs": [],
   "source": [
    "sns.countplot(data='df',x=binary_df,ax=(ax1,ax2,ax3,ax4))"
   ]
  },
  {
   "cell_type": "markdown",
   "id": "2cc896e8",
   "metadata": {},
   "source": [
    "draw a count plot for cholesterol and gluc columns"
   ]
  },
  {
   "cell_type": "code",
   "execution_count": null,
   "id": "5c8b4adf",
   "metadata": {
    "vscode": {
     "languageId": "plaintext"
    }
   },
   "outputs": [],
   "source": [
    "sns.countplot(data=df,x='cholesterol',ax=ax1)"
   ]
  },
  {
   "cell_type": "code",
   "execution_count": null,
   "id": "901ad7eb",
   "metadata": {
    "vscode": {
     "languageId": "plaintext"
    }
   },
   "outputs": [],
   "source": [
    "sns.countplot(data=df,x='gluc',ax=ax2)"
   ]
  },
  {
   "cell_type": "markdown",
   "id": "1e0f91c7",
   "metadata": {},
   "source": [
    "PLOT DATA DISTRIBUTION"
   ]
  },
  {
   "cell_type": "markdown",
   "id": "b30b8286",
   "metadata": {},
   "source": [
    "show the distribution of age , height  and weight values as 3 histograms in one plot"
   ]
  },
  {
   "cell_type": "code",
   "execution_count": null,
   "id": "b0269ba2",
   "metadata": {
    "vscode": {
     "languageId": "plaintext"
    }
   },
   "outputs": [],
   "source": [
    "df.age.plot(kind='hist',ax=ax1)\n",
    "df.height.plot(kind='hist',ax=ax2)\n",
    "df.weight.plot(kind='hist',ax=ax3)\n"
   ]
  },
  {
   "cell_type": "markdown",
   "id": "91534ee2",
   "metadata": {},
   "source": [
    "CALCULATE SUMMARY STATISTICS USING PANDAS"
   ]
  },
  {
   "cell_type": "markdown",
   "id": "b00f3a25",
   "metadata": {},
   "source": [
    "How many men and women are present in this dataset"
   ]
  },
  {
   "cell_type": "code",
   "execution_count": null,
   "id": "c8033635",
   "metadata": {
    "vscode": {
     "languageId": "plaintext"
    }
   },
   "outputs": [],
   "source": [
    "df.gender.value_count()"
   ]
  },
  {
   "cell_type": "markdown",
   "id": "357c0330",
   "metadata": {},
   "source": [
    "which gender  more often reports consuming alchol"
   ]
  },
  {
   "cell_type": "code",
   "execution_count": null,
   "id": "b9647b87",
   "metadata": {
    "vscode": {
     "languageId": "plaintext"
    }
   },
   "outputs": [],
   "source": [
    "df.alco.value_count"
   ]
  },
  {
   "cell_type": "markdown",
   "id": "05b83077",
   "metadata": {},
   "source": [
    "which gender is more physically active "
   ]
  },
  {
   "cell_type": "code",
   "execution_count": null,
   "id": "3743f6ce",
   "metadata": {
    "vscode": {
     "languageId": "plaintext"
    }
   },
   "outputs": [],
   "source": [
    "df.active.value_count()"
   ]
  },
  {
   "cell_type": "markdown",
   "id": "5f1ef961",
   "metadata": {},
   "source": [
    "what is diff between median values of age for smokers and non-smokers"
   ]
  },
  {
   "cell_type": "code",
   "execution_count": null,
   "id": "54cd4758",
   "metadata": {
    "vscode": {
     "languageId": "plaintext"
    }
   },
   "outputs": [],
   "source": [
    "df.groupby('smoke'['age'].median)/365\n",
    "df[0]-df[1]*12"
   ]
  },
  {
   "cell_type": "markdown",
   "id": "2474a582",
   "metadata": {},
   "source": [
    "PERFORM RISK ANALYSIS"
   ]
  },
  {
   "cell_type": "markdown",
   "id": "05c7febc",
   "metadata": {},
   "source": [
    "CALCULATE A NEW FEATURE, age_years"
   ]
  },
  {
   "cell_type": "code",
   "execution_count": null,
   "id": "870556ba",
   "metadata": {
    "vscode": {
     "languageId": "plaintext"
    }
   },
   "outputs": [],
   "source": [
    "df['age_years']=(df['age']/365).astype(int)\n"
   ]
  },
  {
   "cell_type": "markdown",
   "id": "10e5e26a",
   "metadata": {},
   "source": [
    "CHECKS age_years column using head()"
   ]
  },
  {
   "cell_type": "code",
   "execution_count": null,
   "id": "23e75708",
   "metadata": {
    "vscode": {
     "languageId": "plaintext"
    }
   },
   "outputs": [],
   "source": [
    "df.head()"
   ]
  },
  {
   "cell_type": "code",
   "execution_count": null,
   "id": "bfe887b4",
   "metadata": {
    "vscode": {
     "languageId": "plaintext"
    }
   },
   "outputs": [],
   "source": [
    "max(df.age)"
   ]
  },
  {
   "cell_type": "code",
   "execution_count": null,
   "id": "552f6216",
   "metadata": {
    "vscode": {
     "languageId": "plaintext"
    }
   },
   "outputs": [],
   "source": [
    "min(df.min)"
   ]
  },
  {
   "cell_type": "markdown",
   "id": "fbbf8933",
   "metadata": {},
   "source": [
    "How many risky men are in the dataset"
   ]
  },
  {
   "cell_type": "markdown",
   "id": "2d801edd",
   "metadata": {},
   "source": [
    "How many people who are 50 and above"
   ]
  },
  {
   "cell_type": "code",
   "execution_count": null,
   "id": "7aaf3bc6",
   "metadata": {
    "vscode": {
     "languageId": "plaintext"
    }
   },
   "outputs": [],
   "source": [
    "df[df.age>50]"
   ]
  },
  {
   "cell_type": "code",
   "execution_count": null,
   "id": "fcebaeee",
   "metadata": {
    "vscode": {
     "languageId": "plaintext"
    }
   },
   "outputs": [],
   "source": [
    "df.age.years.value_counts()"
   ]
  },
  {
   "cell_type": "markdown",
   "id": "6764441e",
   "metadata": {},
   "source": [
    "how many are 50 years and above and men and smokers"
   ]
  },
  {
   "cell_type": "code",
   "execution_count": null,
   "id": "efca3403",
   "metadata": {
    "vscode": {
     "languageId": "plaintext"
    }
   },
   "outputs": [],
   "source": [
    "df[(gender==2)&&(age>50)]"
   ]
  },
  {
   "cell_type": "markdown",
   "id": "c7360e61",
   "metadata": {},
   "source": [
    "how many old men have their cholestrol level>1 and systolic pressure is from is from 160 to 180 too"
   ]
  },
  {
   "cell_type": "code",
   "execution_count": null,
   "id": "b6c5c819",
   "metadata": {
    "vscode": {
     "languageId": "plaintext"
    }
   },
   "outputs": [],
   "source": [
    "risky_men=df[(df.ap_lo>1)&&(df.ap_hi>=160 and df.ap_hi<180)]"
   ]
  },
  {
   "cell_type": "code",
   "execution_count": null,
   "id": "224a290c",
   "metadata": {
    "vscode": {
     "languageId": "plaintext"
    }
   },
   "outputs": [],
   "source": [
    "risky_men.head()"
   ]
  },
  {
   "cell_type": "code",
   "execution_count": null,
   "id": "345e4c00",
   "metadata": {
    "vscode": {
     "languageId": "plaintext"
    }
   },
   "outputs": [],
   "source": [
    "risky_men.shape"
   ]
  },
  {
   "cell_type": "code",
   "execution_count": null,
   "id": "d4973c81",
   "metadata": {
    "vscode": {
     "languageId": "plaintext"
    }
   },
   "outputs": [],
   "source": [
    "risky-men(\"cardio\"==1).value_count()"
   ]
  },
  {
   "cell_type": "code",
   "execution_count": null,
   "id": "b2c9bf6f",
   "metadata": {
    "vscode": {
     "languageId": "plaintext"
    }
   },
   "outputs": [],
   "source": [
    "create a column bmi and store the bmi values"
   ]
  },
  {
   "cell_type": "code",
   "execution_count": null,
   "id": "ee8ef12c",
   "metadata": {
    "vscode": {
     "languageId": "plaintext"
    }
   },
   "outputs": [],
   "source": [
    "df['bmi']==(df['weight'],df['height]/100**2)\n",
    "df.head()"
   ]
  },
  {
   "cell_type": "code",
   "execution_count": null,
   "id": "6c4fef06",
   "metadata": {
    "vscode": {
     "languageId": "plaintext"
    }
   },
   "outputs": [],
   "source": [
    "sns.catplot(data=df,x='gender',y='bmi')"
   ]
  },
  {
   "cell_type": "code",
   "execution_count": null,
   "id": "6cc55a4e",
   "metadata": {
    "vscode": {
     "languageId": "plaintext"
    }
   },
   "outputs": [],
   "source": [
    "df.groupby('gender')['bmi].median()\n",
    "gender"
   ]
  },
  {
   "cell_type": "code",
   "execution_count": null,
   "id": "fc401188",
   "metadata": {
    "vscode": {
     "languageId": "plaintext"
    }
   },
   "outputs": [],
   "source": [
    "df.groupby(['gender','alco','cardio'])['bmi'].median().to_frame()"
   ]
  },
  {
   "cell_type": "markdown",
   "id": "b9021887",
   "metadata": {},
   "source": [
    "visual data analytics"
   ]
  },
  {
   "cell_type": "code",
   "execution_count": null,
   "id": "b30478e3",
   "metadata": {
    "vscode": {
     "languageId": "plaintext"
    }
   },
   "outputs": [],
   "source": [
    "sns.heatmap(df.corr(),annot=True)"
   ]
  },
  {
   "cell_type": "code",
   "execution_count": null,
   "id": "e3148a25",
   "metadata": {
    "vscode": {
     "languageId": "plaintext"
    }
   },
   "outputs": [],
   "source": [
    "sns.jointplot(data=df,x='height',y='weight')"
   ]
  },
  {
   "cell_type": "code",
   "execution_count": null,
   "id": "d443058b",
   "metadata": {
    "vscode": {
     "languageId": "plaintext"
    }
   },
   "outputs": [],
   "source": [
    "sns.countplotd(data=df,x='age_years',y='weight',hue='gender')"
   ]
  },
  {
   "cell_type": "code",
   "execution_count": null,
   "id": "100af3a1",
   "metadata": {
    "vscode": {
     "languageId": "plaintext"
    }
   },
   "outputs": [],
   "source": [
    "sns.countplot(data=df,x='age_years',y='weight',hue='cardio'))"
   ]
  },
  {
   "cell_type": "code",
   "execution_count": null,
   "id": "b035edf1",
   "metadata": {
    "vscode": {
     "languageId": "plaintext"
    }
   },
   "outputs": [],
   "source": [
    "sns.relplot(data=df,x='ap_hi',y='ap_lo',hue='cardio')"
   ]
  },
  {
   "cell_type": "code",
   "execution_count": null,
   "id": "24cbbbe9",
   "metadata": {
    "vscode": {
     "languageId": "plaintext"
    }
   },
   "outputs": [],
   "source": [
    "max([df['ap_hi]])"
   ]
  },
  {
   "cell_type": "code",
   "execution_count": null,
   "id": "01895327",
   "metadata": {
    "vscode": {
     "languageId": "plaintext"
    }
   },
   "outputs": [],
   "source": [
    "min([df['ap_hi]])"
   ]
  },
  {
   "cell_type": "code",
   "execution_count": null,
   "id": "a0798e62",
   "metadata": {
    "vscode": {
     "languageId": "plaintext"
    }
   },
   "outputs": [],
   "source": [
    "max([df['ap_lo']])"
   ]
  },
  {
   "cell_type": "code",
   "execution_count": null,
   "id": "96a5c692",
   "metadata": {
    "vscode": {
     "languageId": "plaintext"
    }
   },
   "outputs": [],
   "source": [
    "min([df['ap_lo']])"
   ]
  },
  {
   "cell_type": "code",
   "execution_count": null,
   "id": "7a2120c3",
   "metadata": {
    "vscode": {
     "languageId": "plaintext"
    }
   },
   "outputs": [],
   "source": [
    "sns.violinplot(data=df,x='alco',y='age_years',hue='cardio')"
   ]
  }
 ],
 "metadata": {
  "kernelspec": {
   "display_name": "Python 3 (ipykernel)",
   "language": "python",
   "name": "python3"
  },
  "language_info": {
   "codemirror_mode": {
    "name": "ipython",
    "version": 3
   },
   "file_extension": ".py",
   "mimetype": "text/x-python",
   "name": "python",
   "nbconvert_exporter": "python",
   "pygments_lexer": "ipython3",
   "version": "3.9.12"
  }
 },
 "nbformat": 4,
 "nbformat_minor": 5
}
